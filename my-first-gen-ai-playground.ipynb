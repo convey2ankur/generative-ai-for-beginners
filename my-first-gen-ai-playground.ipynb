{
 "cells": [
  {
   "cell_type": "code",
   "execution_count": 1,
   "id": "2c275d14-786a-4a8c-a4ed-2c74f429669a",
   "metadata": {},
   "outputs": [
    {
     "name": "stdout",
     "output_type": "stream",
     "text": [
      "Requirement already satisfied: openai in c:\\users\\ankshah0\\appdata\\local\\programs\\python\\python311\\lib\\site-packages (1.14.2)\n",
      "Requirement already satisfied: anyio<5,>=3.5.0 in c:\\users\\ankshah0\\appdata\\local\\programs\\python\\python311\\lib\\site-packages (from openai) (4.3.0)\n",
      "Requirement already satisfied: distro<2,>=1.7.0 in c:\\users\\ankshah0\\appdata\\local\\programs\\python\\python311\\lib\\site-packages (from openai) (1.9.0)\n",
      "Requirement already satisfied: httpx<1,>=0.23.0 in c:\\users\\ankshah0\\appdata\\local\\programs\\python\\python311\\lib\\site-packages (from openai) (0.27.0)\n",
      "Requirement already satisfied: pydantic<3,>=1.9.0 in c:\\users\\ankshah0\\appdata\\local\\programs\\python\\python311\\lib\\site-packages (from openai) (2.6.4)\n",
      "Requirement already satisfied: sniffio in c:\\users\\ankshah0\\appdata\\local\\programs\\python\\python311\\lib\\site-packages (from openai) (1.3.1)\n",
      "Requirement already satisfied: tqdm>4 in c:\\users\\ankshah0\\appdata\\local\\programs\\python\\python311\\lib\\site-packages (from openai) (4.66.2)\n",
      "Requirement already satisfied: typing-extensions<5,>=4.7 in c:\\users\\ankshah0\\appdata\\local\\programs\\python\\python311\\lib\\site-packages (from openai) (4.10.0)\n",
      "Requirement already satisfied: idna>=2.8 in c:\\users\\ankshah0\\appdata\\local\\programs\\python\\python311\\lib\\site-packages (from anyio<5,>=3.5.0->openai) (3.6)\n",
      "Requirement already satisfied: certifi in c:\\users\\ankshah0\\appdata\\local\\programs\\python\\python311\\lib\\site-packages (from httpx<1,>=0.23.0->openai) (2024.2.2)\n",
      "Requirement already satisfied: httpcore==1.* in c:\\users\\ankshah0\\appdata\\local\\programs\\python\\python311\\lib\\site-packages (from httpx<1,>=0.23.0->openai) (1.0.4)\n",
      "Requirement already satisfied: h11<0.15,>=0.13 in c:\\users\\ankshah0\\appdata\\local\\programs\\python\\python311\\lib\\site-packages (from httpcore==1.*->httpx<1,>=0.23.0->openai) (0.14.0)\n",
      "Requirement already satisfied: annotated-types>=0.4.0 in c:\\users\\ankshah0\\appdata\\local\\programs\\python\\python311\\lib\\site-packages (from pydantic<3,>=1.9.0->openai) (0.6.0)\n",
      "Requirement already satisfied: pydantic-core==2.16.3 in c:\\users\\ankshah0\\appdata\\local\\programs\\python\\python311\\lib\\site-packages (from pydantic<3,>=1.9.0->openai) (2.16.3)\n",
      "Requirement already satisfied: colorama in c:\\users\\ankshah0\\appdata\\local\\programs\\python\\python311\\lib\\site-packages (from tqdm>4->openai) (0.4.6)\n",
      "Note: you may need to restart the kernel to use updated packages.\n"
     ]
    },
    {
     "name": "stderr",
     "output_type": "stream",
     "text": [
      "\n",
      "[notice] A new release of pip is available: 23.1.2 -> 24.0\n",
      "[notice] To update, run: python.exe -m pip install --upgrade pip\n"
     ]
    }
   ],
   "source": [
    "pip install openai"
   ]
  },
  {
   "cell_type": "code",
   "execution_count": null,
   "id": "0b5fd6e7-596f-4f29-a6e7-07575936051f",
   "metadata": {},
   "outputs": [],
   "source": [
    "#Note: The openai-python library support for Azure OpenAI is in preview.\n",
    "      #Note: This code sample requires OpenAI Python library version 1.0.0 or higher.\n",
    "import os\n",
    "from openai import AzureOpenAI\n",
    "\n",
    "\n",
    "client = AzureOpenAI(\n",
    "  azure_endpoint = os.environ.get('AZURE_OPENAI_ENDPOINT') #\"https://azure-openai-genai-test-001.openai.azure.com/\", \n",
    "  api_key=\"076c93de63b446a18c2a58ff525f90c9\",  \n",
    "  api_version=\"2024-02-15-preview\"\n",
    ")\n",
    "\n",
    "\n",
    "message_text = [{\"role\":\"system\",\"content\":\"You are an AI assistant that helps people find information.\"},{\"role\":\"user\",\"content\":\"list down youtube videos on gen ai learnings\"},{\"role\":\"assistant\",\"content\":\"1. \\\"Introduction to General Artificial Intelligence\\\" by Siraj Raval\\n2. \\\"The Future of Artificial Intelligence - General AI\\\" by Lex Fridman\\n3. \\\"Understanding General Artificial Intelligence\\\" by CGP Grey\\n4. \\\"General Artificial Intelligence: Rise of the Machines\\\" by ColdFusion\\n5. \\\"The Quest for General Artificial Intelligence\\\" by AI Alignment Podcast\\n6. \\\"General Artificial Intelligence: The Next Big Thing?\\\" by Two Minute Papers\\n7. \\\"The Future of AI: General Intelligence vs. Narrow Intelligence\\\" by TechTalks\\n8. \\\"General Artificial Intelligence: The Future of Humanity?\\\" by Isaac Arthur\\n9. \\\"The Path to General Artificial Intelligence\\\" by Robert Miles\\n10. \\\"General Artificial Intelligence: The Singularity\\\" by Kurzgesagt – In a Nutshell\"}]\n",
    "\n",
    "completion = client.chat.completions.create(\n",
    "  model=\"my-gpt-35-deploy\", # model = \"deployment_name\"\n",
    "  messages = message_text,\n",
    "  temperature=0.7,\n",
    "  max_tokens=800,\n",
    "  top_p=0.95,\n",
    "  frequency_penalty=0,\n",
    "  presence_penalty=0,\n",
    "  stop=None\n",
    ")"
   ]
  },
  {
   "cell_type": "code",
   "execution_count": 87,
   "id": "4a80b819-b0a9-44bb-a94c-84b7bf0a4346",
   "metadata": {},
   "outputs": [
    {
     "name": "stdout",
     "output_type": "stream",
     "text": [
      "not available\n"
     ]
    }
   ],
   "source": [
    "import os\n",
    "azure_endpoint = os.environ.get('AZURE_OPENAI_ENDPOINT', 'not available')\n",
    "print (azure_endpoint)"
   ]
  },
  {
   "cell_type": "code",
   "execution_count": 88,
   "id": "96adb824-12c7-42a0-99c0-de6ba66a4d07",
   "metadata": {},
   "outputs": [],
   "source": [
    "import os\n",
    "from openai import AzureOpenAI"
   ]
  },
  {
   "cell_type": "code",
   "execution_count": 89,
   "id": "87a45f83-7fdb-45be-a057-28d0ddba5da1",
   "metadata": {},
   "outputs": [],
   "source": [
    "client = AzureOpenAI(\n",
    "  azure_endpoint = \"https://azure-openai-genai-test-001.openai.azure.com/\", \n",
    "  api_key=\"076c93de63b446a18c2a58ff525f90c9\",  \n",
    "  api_version=\"2024-02-15-preview\"\n",
    ")"
   ]
  },
  {
   "cell_type": "code",
   "execution_count": 90,
   "id": "6d5965db-7464-4ca9-9765-cb3c2fd2e27d",
   "metadata": {},
   "outputs": [],
   "source": [
    "message_text = [{\"role\":\"system\",\"content\":\"You are an AI assistant that helps people find information.\"},{\"role\":\"user\",\"content\":\"list down youtube videos on gen ai learnings\"}]"
   ]
  },
  {
   "cell_type": "code",
   "execution_count": 37,
   "id": "d436fe85-211b-46de-8faf-9d4dd62d8a82",
   "metadata": {},
   "outputs": [],
   "source": [
    "message_text=[\n",
    "        {\"role\": \"system\", \"content\": \"You are a helpful assistant.\"},\n",
    "        {\"role\": \"user\", \"content\": \"Who won the world series in 2020?\"},\n",
    "        {\"role\": \"assistant\", \"content\": \"The Los Angeles Dodgers won the World Series in 2020.\"},\n",
    "        {\"role\": \"user\", \"content\": \"Where was it played?\"}\n",
    "    ]"
   ]
  },
  {
   "cell_type": "code",
   "execution_count": 76,
   "id": "59e2444e-4906-436f-ac0a-e0ab1b1488ae",
   "metadata": {},
   "outputs": [],
   "source": [
    "message_text = [{\"role\": \"user\", \"content\":\"Write a description of the Civil War in 1 paragraph. Provide 3 bullet points with key dates and their significance. Provide 3 more bullet points with key historical figures and their contributions.\"}]"
   ]
  },
  {
   "cell_type": "code",
   "execution_count": 98,
   "id": "8a4340d5-c04b-43fa-9331-147006c0e3fb",
   "metadata": {},
   "outputs": [],
   "source": [
    "message_text = [{\"role\": \"user\", \"content\":\"Alice has 5 apples, throws 3 apples, gives 2 to Bob and Bob gives one back, how many apples does Alice have?\"}]"
   ]
  },
  {
   "cell_type": "code",
   "execution_count": 99,
   "id": "a42934c8-cf3c-4a67-b4b4-413a7d2688a6",
   "metadata": {},
   "outputs": [],
   "source": [
    "responce = client.chat.completions.create(\n",
    "  model=\"my-gpt-35-deploy\", # model = \"deployment_name\"\n",
    "  messages = message_text,\n",
    "  temperature=0,\n",
    "  max_tokens=4096,\n",
    "  frequency_penalty=0,\n",
    "  presence_penalty=0,\n",
    "  stop=None\n",
    ")"
   ]
  },
  {
   "cell_type": "code",
   "execution_count": 100,
   "id": "2bf72e4f-3be9-47b3-ab0f-d5f21fa0f248",
   "metadata": {},
   "outputs": [
    {
     "data": {
      "text/plain": [
       "'Alice initially has 5 apples.\\nShe throws 3 apples, so she now has 5 - 3 = <<5-3=2>>2 apples.\\nShe gives 2 apples to Bob, so she now has 2 - 2 = <<2-2=0>>0 apples.\\nBob gives one apple back, so Alice now has 0 + 1 = <<0+1=1>>1 apple.\\nTherefore, Alice has 1 apple. Answer: \\\\boxed{1}.'"
      ]
     },
     "execution_count": 100,
     "metadata": {},
     "output_type": "execute_result"
    }
   ],
   "source": [
    "responce.choices[0].message.content"
   ]
  },
  {
   "cell_type": "code",
   "execution_count": 72,
   "id": "61c96688-8033-458c-9c78-be731cbe5705",
   "metadata": {},
   "outputs": [
    {
     "name": "stdout",
     "output_type": "stream",
     "text": [
      "['{\\n  \"description\": \"The Civil War was a major conflict in the United States that took place from 1861 to 1865. It was fought between the Northern states, known as the Union, and the Southern states, known as the Confederacy. The war began as a result of several factors, including disagreements over slavery, states\\' rights, and economic differences. The Union eventually emerged victorious, and the war had a significant impact on the nation, leading to the abolition of slavery and the preservation of the Union.\",\\n  \"key_dates\": [\\n    {\\n      \"date\": \"April 12, 1861\",\\n      \"significance\": \"Attack on Fort Sumter marks the beginning of the Civil War\"\\n    },\\n    {\\n      \"date\": \"January 1, 1863\",\\n      \"significance\": \"Emancipation Proclamation issued, declaring all slaves in Confederate territory to be free\"\\n    },\\n    {\\n      \"date\": \"April 9, 1865\",\\n      \"significance\": \"General Robert E. Lee surrenders to General Ulysses S. Grant, effectively ending the Civil War\"\\n    }\\n  ],\\n  \"key_figures\": [\\n    {\\n      \"name\": \"Abraham Lincoln\",\\n      \"contribution\": \"President of the United States during the Civil War, issued the Emancipation Proclamation\"\\n    },\\n    {\\n      \"name\": \"Robert E. Lee\",\\n      \"contribution\": \"Confederate general, led the Army of Northern Virginia\"\\n    },\\n    {\\n      \"name\": \"Ulysses S. Grant\",\\n      \"contribution\": \"Union general, led the Union Army to victory and later became the 18th President of the United States\"\\n    }\\n  ]\\n}']\n"
     ]
    }
   ],
   "source": [
    "generated_texts = [\n",
    "        choice.message.content.strip() for choice in responce.choices\n",
    "    ]\n",
    "\n",
    "print(generated_texts)"
   ]
  },
  {
   "cell_type": "code",
   "execution_count": 35,
   "id": "8addf729-bf23-4563-9854-84d85af694ef",
   "metadata": {},
   "outputs": [],
   "source": [
    "import openai"
   ]
  },
  {
   "cell_type": "code",
   "execution_count": 38,
   "id": "a6bbf53a-4dbb-4481-89dd-e4b1eb758456",
   "metadata": {},
   "outputs": [],
   "source": [
    "completion = client.chat.completions.create(\n",
    "  model=\"my-gpt-35-deploy\", # model = \"deployment_name\"\n",
    "  messages = message_text,\n",
    "  temperature=0.7,\n",
    "  max_tokens=800,\n",
    "  top_p=0.95,\n",
    "  frequency_penalty=0,\n",
    "  presence_penalty=0,\n",
    "  stop=None\n",
    ")"
   ]
  },
  {
   "cell_type": "code",
   "execution_count": null,
   "id": "1bc9ceba-b5df-414a-b7b7-213457a24d4a",
   "metadata": {},
   "outputs": [],
   "source": []
  }
 ],
 "metadata": {
  "kernelspec": {
   "display_name": "Python 3 (ipykernel)",
   "language": "python",
   "name": "python3"
  },
  "language_info": {
   "codemirror_mode": {
    "name": "ipython",
    "version": 3
   },
   "file_extension": ".py",
   "mimetype": "text/x-python",
   "name": "python",
   "nbconvert_exporter": "python",
   "pygments_lexer": "ipython3",
   "version": "3.11.4"
  }
 },
 "nbformat": 4,
 "nbformat_minor": 5
}
